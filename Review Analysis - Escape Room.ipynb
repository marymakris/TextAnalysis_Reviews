{
 "cells": [
  {
   "cell_type": "markdown",
   "metadata": {},
   "source": [
    "### Escape Rooms\n",
    "\n",
    "There were 4 different companies in the escape room group and about 1,415 reviews. "
   ]
  },
  {
   "cell_type": "code",
   "execution_count": null,
   "metadata": {
    "collapsed": true
   },
   "outputs": [],
   "source": [
    "import nltk\n",
    "import random\n",
    "import csv\n",
    "import re\n",
    "\n",
    "working_dir = \"C:\\\\Users\\\\Mary Makris\\\\Documents\\\\Applied Data Analytics\\\\Projects\\\\TOMIS\\\\\""
   ]
  },
  {
   "cell_type": "code",
   "execution_count": null,
   "metadata": {
    "collapsed": true
   },
   "outputs": [],
   "source": [
    "#initialize list to store labeled reviews in\n",
    "labeled_reviews = list()\n",
    "\n",
    "#open file of all the reviews, split it on a comma\n",
    "with open (working_dir + 'escape_room.csv', 'r', encoding=\"UTF-8\") as xfile:                                        \n",
    "    splitline = csv.reader(xfile, delimiter = \",\")\n",
    "    next(splitline)\n",
    "    for line in splitline:\n",
    "        ##join the title of the review with the content of the review so all the text can be analyzed as one\n",
    "        joinline = line[0] + \" \" + line[3]\n",
    "        #label reviews rating with a 40 or 50 as good and those with a 10, 20, 0r 30 as bad\n",
    "        if line[2] == \"50\" or line[2] == \"40\":\n",
    "            labeled_reviews.append((joinline, 'Good'))\n",
    "        else:\n",
    "            labeled_reviews.append((joinline, 'Bad'))"
   ]
  },
  {
   "cell_type": "code",
   "execution_count": null,
   "metadata": {
    "collapsed": true
   },
   "outputs": [],
   "source": [
    "#shuffle all the reviews up in case they are in some type of order\n",
    "random.shuffle(labeled_reviews)"
   ]
  },
  {
   "cell_type": "code",
   "execution_count": null,
   "metadata": {
    "collapsed": true
   },
   "outputs": [],
   "source": [
    "def review_features(description):\n",
    "    '''This function should take in a review and return \n",
    "    a dictionary value with the name of the feature as the key and \n",
    "    the value as the feature value'''\n",
    "     \n",
    "    split_review = description.split(\" \")                            ### split the list of words\n",
    "    lowcase_review = [thing.lower() for thing in split_review]     ### make all the descriptions lowercase\n",
    "    clean_review = [re.sub(r'[^\\w\\s]','',word) for word in lowcase_review]  ## fix punctuation\n",
    "    print(clean_review)                                                                   \n",
    "    ret_val = {}\n",
    "    for word in clean_review:                                      ###store words in a dictionary\n",
    "        ret_val[word] = True\n",
    "    return(ret_val)\n",
    "\n",
    "#Test the function\n",
    "review_features(\"Is this working correctly\")"
   ]
  },
  {
   "cell_type": "code",
   "execution_count": null,
   "metadata": {
    "collapsed": true
   },
   "outputs": [],
   "source": [
    "##run each review through function and store the results in a variable called feature sets\n",
    "featuresets = [(review_features(review), rating) for (review, ratig) in labeled_reviews]  \n",
    "#Split the reviews into a training set and a test set\n",
    "train_set, test_set = featuresets[500:], featuresets[:500]  \n",
    "#run the training set through the Naive Bayes classifier to train it\n",
    "classifier = nltk.NaiveBayesClassifier.train(train_set)   "
   ]
  },
  {
   "cell_type": "code",
   "execution_count": null,
   "metadata": {
    "collapsed": true
   },
   "outputs": [],
   "source": [
    "#look at how accurate the classifier was when analyzing the test set of reviews that were left out\n",
    "print(nltk.classify.accuracy(classifier, test_set))"
   ]
  },
  {
   "cell_type": "code",
   "execution_count": null,
   "metadata": {
    "collapsed": true
   },
   "outputs": [],
   "source": [
    "#look at the most informative features determined by the classifer\n",
    "classifier.show_most_informative_features(50)"
   ]
  },
  {
   "cell_type": "code",
   "execution_count": null,
   "metadata": {
    "collapsed": true
   },
   "outputs": [],
   "source": [
    "#initialize a list to store all the reviews\n",
    "all_reviews = []\n",
    "\n",
    "#split each review into individual words, and store the words in the all_reviews list\n",
    "for review, label in labeled_reviews :\n",
    "    words = review.split() \n",
    "    for word in words :\n",
    "        all_reviews.append(word)"
   ]
  },
  {
   "cell_type": "code",
   "execution_count": null,
   "metadata": {
    "collapsed": true
   },
   "outputs": [],
   "source": [
    "##tokenize each word in the list of reviews\n",
    "all_reviews = nltk.word_tokenize(\" \".join(all_reviews))"
   ]
  },
  {
   "cell_type": "code",
   "execution_count": null,
   "metadata": {
    "collapsed": true
   },
   "outputs": [],
   "source": [
    "##According to the NLTK documentation nltk.text is wrapper around the tokens that allows you to then run functions like \n",
    "##concordance. So I run it on the now tokenized words in all the reviews and store with the same name as before\n",
    "all_reviews = nltk.Text(all_reviews)"
   ]
  },
  {
   "cell_type": "code",
   "execution_count": null,
   "metadata": {
    "collapsed": true
   },
   "outputs": [],
   "source": [
    "#look at the context surrounding each word to get more information about what the review entailed\n",
    "all_reviews.concordance(\"informativefeatureword\")"
   ]
  },
  {
   "cell_type": "markdown",
   "metadata": {},
   "source": [
    "After looking at the top 50 features and the context surrounding them, I pulled the 5 to 10 that I felt would\n",
    "be most useful and informative from a business perspective that TOMIS could use in their work with clients. \n",
    "Likely because of the low number of negative reviews, the classifier had low accuracy rates and the context \n",
    "shows words in reviews that are positive. \n",
    "\n",
    "### Top Informative Features & Probabilites"
   ]
  },
  {
   "cell_type": "markdown",
   "metadata": {},
   "source": [
    "INSTRUCTIONS:\n",
    "(instructions = True              Bad : Good   =     23.6 : 1.0)\n",
    "    \n",
    "tv was not working to provide us instructions . The rep just told us to start \n",
    "elpful in his explanation of the instructions Awesome experience I'be become s\n",
    "m and I enjoyed this a lot . The instructions and guidance were a little vague\n",
    "s fantastic , funny , clear with instructions and glad to help and answer any \n",
    "ob explaining and acting out the instructions then sent us off to escape . So \n",
    "ge amount of help with hints and instructions , ... Fun but way too complicate"
   ]
  },
  {
   "cell_type": "markdown",
   "metadata": {},
   "source": [
    "LOCKS:\n",
    "(locks = True              Bad : Good   =     23.6 : 1.0\n",
    "\n",
    "way If looking for keys or combos to locks is your thing this is it ! We were p\n",
    " done . Many rooms are just a lot of locks and keys , but this room actually to\n",
    "to come back A lot of fun One of the locks for the boxes could not be unlocked \n",
    "it . We had an issue with one of the locks that a staff member had to come in ."
   ]
  },
  {
   "cell_type": "markdown",
   "metadata": {},
   "source": [
    "WAITING: \n",
    "( Bad : Good   =     23.6 : 1.0)\n",
    "\n",
    "vague from the staff while we were waiting for our group ... Fun Escape Room T\n",
    "let us play with some puzzles while waiting for our whole group to arrive . The\n",
    "be a good idea . Also , we ended up waiting over thirty minutes for a couple .."
   ]
  },
  {
   "cell_type": "markdown",
   "metadata": {},
   "source": [
    "STORY:\n",
    "(Bad : Good   =     10.8 : 1.0)\n",
    "\n",
    "sloppy and poorly thought out . The story did not make sense , and many clues \n",
    "zzle we finished was okay . The back story did n't make any sense , and sometim\n",
    "\n",
    "(SENSE, Bad : Good   =     16.9 : 1.0, word was in the same comments)"
   ]
  },
  {
   "cell_type": "markdown",
   "metadata": {},
   "source": [
    "UNDER:\n",
    "(Bad : Good   =     14.2 : 1.0)\n",
    "\n",
    "s , two 30+ year olds , and two kids under 12 ) , and even though we did n't su\n",
    "ving it . Too hard really for anyone under 18 to be of much help . My only knoc\n",
    " other escape rooms that were either under developed or way to unrealistic ... \n",
    "d and figured out how to communicate under the pressure . This is highly recomm\n",
    "d who are the ones that get stressed under pressure ... but it was an amazing t\n",
    "ed with a family that had 2 children under the age of about 5 . It completely h\n",
    "tly telling the children ... No kids under a certain age please ! We came so cl\n",
    "icult challenge that we completed in under an hour . I only have two minor sugg"
   ]
  },
  {
   "cell_type": "markdown",
   "metadata": {},
   "source": [
    "ZOMBIES:\n",
    "(Bad : Good   =     23.6 : 1.0)\n",
    "\n",
    "It would be cool if there were fake zombies trying to get you once you go into \n",
    " 've been better if their were real zombies trying to get in ) . Izzy was a gre\n",
    "Almost all my family was there . No zombies was a let down though . We still ha\n",
    "bie '' there was nothing related to zombies . Dirty and quickly became boring N"
   ]
  },
  {
   "cell_type": "markdown",
   "metadata": {},
   "source": [
    "MONEY:\n",
    "(Bad : Good   =     23.6 : 1.0)\n",
    "me . I do n't think it was worth the money . not what I expected I had no clue \n",
    "n and challenging . It was worth the money and a fun date night activity . Izzy\n",
    "oyed the experience ! Well worth the money . So much fun ! Our family really en\n",
    "he room was awesome . Well worth the money ! They stayed later so we could have\n",
    "and cheesy . I felt like I wasted my money and they really got over . I 'll nev\n",
    "to try another room . Well worth the money paid . Great Trip Quite the challeng\n",
    "h is perfect bc you want to get your money 's worth . We went with 5 people whi\n",
    "e . I get people ... Did n't get our money 's worth , but it seems most do We a"
   ]
  }
 ],
 "metadata": {
  "kernelspec": {
   "display_name": "Python 3",
   "language": "python",
   "name": "python3"
  },
  "language_info": {
   "codemirror_mode": {
    "name": "ipython",
    "version": 3
   },
   "file_extension": ".py",
   "mimetype": "text/x-python",
   "name": "python",
   "nbconvert_exporter": "python",
   "pygments_lexer": "ipython3",
   "version": "3.6.1"
  }
 },
 "nbformat": 4,
 "nbformat_minor": 2
}
