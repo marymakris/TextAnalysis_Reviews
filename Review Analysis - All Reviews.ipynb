{
 "cells": [
  {
   "cell_type": "markdown",
   "metadata": {},
   "source": [
    "### All Reviews\n",
    "\n",
    "To help TOMIS determine features of negative reviews, the following analysis takes 9,905 scraped from TripAdvisor and runs them through a Naive Bayes classifier, looks at the top 50 most informative features, and then the context surrounding the words that emerge. \n",
    "\n",
    "The features I found most interesting and the context in which they appear is listed at the bottom of the notebook. \n",
    "\n",
    "I then repeated this analysis for specific groups of companies to compare the results which are captured in separate notebooks labeled by company type."
   ]
  },
  {
   "cell_type": "code",
   "execution_count": null,
   "metadata": {
    "collapsed": true
   },
   "outputs": [],
   "source": [
    "import nltk\n",
    "import random\n",
    "import csv\n",
    "import re\n",
    "\n",
    "working_dir = \"C:\\\\Users\\\\Mary Makris\\\\Documents\\\\Applied Data Analytics\\\\Projects\\\\TOMIS\\\\\""
   ]
  },
  {
   "cell_type": "markdown",
   "metadata": {},
   "source": [
    "The first step is to label each review. "
   ]
  },
  {
   "cell_type": "code",
   "execution_count": null,
   "metadata": {
    "collapsed": true
   },
   "outputs": [],
   "source": [
    "#initialize list to store labeled reviews in\n",
    "labeled_reviews = list()\n",
    "\n",
    "#open file of all the reviews, split it on a comma\n",
    "with open (working_dir + 'Trip_Advisor_Scrapes.csv', 'r', encoding=\"latin-1\") as xfile:                                        \n",
    "    splitline = csv.reader(xfile, delimiter = \",\")\n",
    "    next(splitline)\n",
    "    for line in splitline:\n",
    "        ##join the title of the review with the content of the review so all the text can be analyzed as one\n",
    "        joinline = line[0] + \" \" + line[3]\n",
    "        #label reviews rating with a 40 or 50 as good and those with a 10, 20, 0r 30 as bad\n",
    "        if line[2] == \"50\" or line[2] == \"40\":\n",
    "            labeled_reviews.append((joinline, 'Good'))\n",
    "        else:\n",
    "            labeled_reviews.append((joinline, 'Bad'))"
   ]
  },
  {
   "cell_type": "markdown",
   "metadata": {},
   "source": [
    "Once labeled, I shuffled the reviews to ensure they are in a random order. "
   ]
  },
  {
   "cell_type": "code",
   "execution_count": null,
   "metadata": {
    "collapsed": true
   },
   "outputs": [],
   "source": [
    "random.shuffle(labeled_reviews)"
   ]
  },
  {
   "cell_type": "code",
   "execution_count": null,
   "metadata": {},
   "outputs": [],
   "source": [
    "def review_features(review):\n",
    "    '''This function should take in a review and return \n",
    "    a dictionary value with the name of the feature as the key and \n",
    "    the value as the feature value'''\n",
    "     \n",
    "    split_review = review.split(\" \")                            ### split the list of words\n",
    "    lowcase_review = [thing.lower() for thing in split_review]     ### make all the descriptions lowercase\n",
    "    clean_review = [re.sub(r'[^\\w\\s]','',word) for word in lowcase_review]  ## fix punctuation\n",
    "    print(clean_review)                                                                   \n",
    "    ret_val = {}\n",
    "    for word in clean_review:\n",
    "        ret_val[word] = True\n",
    "    return(ret_val)\n",
    "\n",
    "#Test the function\n",
    "review_features(\"Is this working correctly\")"
   ]
  },
  {
   "cell_type": "code",
   "execution_count": null,
   "metadata": {},
   "outputs": [],
   "source": [
    "##run each review through function and store the results in a variable called feature sets\n",
    "featuresets = [(review_features(review), rating) for (review, rating) in labeled_reviews]   \n",
    "#Split the reviews into a training set and a test set\n",
    "train_set, test_set = featuresets[500:], featuresets[:500]\n",
    "#run the training set through the Naive Bayes classifier to train it\n",
    "classifier = nltk.NaiveBayesClassifier.train(train_set)   "
   ]
  },
  {
   "cell_type": "code",
   "execution_count": null,
   "metadata": {},
   "outputs": [],
   "source": [
    "#look at how accurate the classifier was when analyzing the test set of reviews that were left out\n",
    "print(nltk.classify.accuracy(classifier, test_set))"
   ]
  },
  {
   "cell_type": "code",
   "execution_count": null,
   "metadata": {
    "scrolled": true
   },
   "outputs": [],
   "source": [
    "#look at the most informative features determined by the classifer\n",
    "classifier.show_most_informative_features(50)"
   ]
  },
  {
   "cell_type": "code",
   "execution_count": null,
   "metadata": {
    "collapsed": true
   },
   "outputs": [],
   "source": [
    "#initialize a list to store all the reviews\n",
    "all_reviews = []\n",
    "\n",
    "#split each review into individual words, and store the words in the all_reviews list\n",
    "for review, label in labeled_reviews :\n",
    "    words = review.split() \n",
    "    for word in words :\n",
    "        all_reviews.append(word)"
   ]
  },
  {
   "cell_type": "code",
   "execution_count": null,
   "metadata": {
    "collapsed": true
   },
   "outputs": [],
   "source": [
    "##tokenize each word in the list of reviews\n",
    "all_reviews = nltk.word_tokenize(\" \".join(all_reviews))"
   ]
  },
  {
   "cell_type": "code",
   "execution_count": null,
   "metadata": {
    "collapsed": true
   },
   "outputs": [],
   "source": [
    "##According to the NLTK documentation nltk.text is wrapper around the tokens that allows you to then run functions like \n",
    "##concordance. So I run it on the now tokenized words in all the reviews and store with the same name as before\n",
    "all_reviews = nltk.Text(all_reviews)"
   ]
  },
  {
   "cell_type": "code",
   "execution_count": null,
   "metadata": {
    "collapsed": true
   },
   "outputs": [],
   "source": [
    "#look at the context surrounding each word to get more information about what the review entailed\n",
    "all_reviews.concordance(\"informativefeatureword\")"
   ]
  },
  {
   "cell_type": "markdown",
   "metadata": {},
   "source": [
    "After looking at the top 50 features and the context surrounding them, I pulled the 5 to 10 that I felt would be most useful and informative from a business perspective that TOMIS could use in their work with clients. Likely because of the low number of negative reviews, the classifier had low accuracy rates and sometimes the context showed words that were more often in a positive review. \n",
    "\n",
    "### Informative Features with their context:"
   ]
  },
  {
   "cell_type": "markdown",
   "metadata": {},
   "source": [
    "Disappointing\n",
    "(Bad : Good   =     79.2 : 1.0)\n",
    "\n",
    "experience with Hydra other than disappointing . A group of 3 of us rafted the \n",
    "t Hydra on the Kicking Horse ... Disappointing at Best No crowds , great raftin\n",
    "far distance away but we got ... Disappointing for the night cruise ... I would\n",
    " for a table ... Lovely Cruise , Disappointing Brunch I really did n't think th\n",
    "ng from the outside but a little disappointing . Room was not ready when we arr\n",
    "sive . But the show was the most disappointing . We ... Not so great . We have \n",
    "o deal with . The Ghost tour ... Disappointing Ghost Tour We did n't do the mea\n",
    "then walk to ... Ghost Tour Very Disappointing ! Ca n't say enough about how gr\n",
    "f you like country music and ... Disappointing If you are undecided about wethe\n",
    "g was excellent ... .rafting was disappointing we had an awesome time at missio\n",
    "hat both my husband and I do ... Disappointing If I could give YFA more than 5 \n",
    " was served immediately . It was disappointing . Pork chop was overcooked and d\n",
    "nd we were wary that it would be disappointing as a result . It was exactly the\n",
    "tures ! Without a doubt the most disappointing part of a wonderful weekend in N"
   ]
  },
  {
   "cell_type": "markdown",
   "metadata": {},
   "source": [
    "TERRIBLE: \n",
    "(Bad : Good   =     54.4 : 1.0)\n",
    "\n",
    "they would n't even reschedule ... Terrible service would n't use them again !\n",
    "ide was worth the price . Food was terrible and the servers were -- -different\n",
    "vers should at least be fluent ... Terrible food The staff was amazing and pro\n",
    ". Definitely would not recommend . Terrible The Dolores River has carved spect\n",
    "hand ... Great show , but food was terrible I was lucky enough to spend 5 days\n",
    "ay . I must say I read some of the terrible and poor reviews before staying at\n",
    " Excellent ! The experienced wasnt terrible , but far from good , i felt total\n",
    "a bum guide or what , but this was terrible ( Ghost Tour ) This is a great way\n",
    "d an awesome experience ! I have a terrible fear of heights , but with Carolin\n",
    "l . There was one group that had a terrible accent and we could n't understand\n",
    "ight . I ate better at Taco Bell . Terrible food We went on this ride last Mon\n",
    "at ... Evening float . Nice ride , terrible access . When some plans changed l\n",
    "ther companies rooms and they were terrible compared to Mission Escape ! We ca\n",
    "ood . Over cooked Pork tender with terrible green beans and awful chutney some\n",
    "y a 1 hr show after . The meal was terrible ... DRY , overcooked chicken ! Ver\n",
    " We , of course , did not ... Just Terrible We did a session for a bachelorett\n",
    " and entertaining ... the food was terrible . If ... Not worth the money My fi"
   ]
  },
  {
   "cell_type": "markdown",
   "metadata": {},
   "source": [
    "HORRIBLE:\n",
    "(Bad : Good   =     51.3 : 1.0)\n",
    "\n",
    "plementation of ... Embarrassingly Horrible Staff , Earth Shatteringly Awesome\n",
    " $ and non-refundable . Drinks ... HORRIBLE , WISH WE NEVER WENT . NOT WORTH T\n",
    "t from the very beginning this was HORRIBLE . We arrived at 6 to 3 people sitt\n",
    "n't save it..They had so weird ... Horrible ..abandon ship This was a great ex\n",
    "in front of stage -- early act was horrible and food the same -- the brussel s\n",
    ", consoling my group and I for our horrible loss at the end , etc ) ! The Area\n",
    " Wasted half a day driving out ... Horrible I have rafted in three other state"
   ]
  },
  {
   "cell_type": "markdown",
   "metadata": {},
   "source": [
    "RUDE:\n",
    "(Bad : Good   =     54.4 : 1.0)  \n",
    "\n",
    "ld n't use them again ! ! ! And very rude ! ! ! Very disappointed ! ! ! Alpine\n",
    " and well kept . The staff was a tad rude and in fact gave my husband a hard t\n",
    "lso be good . But our guide was very rude , he ... Good facility but very rude\n",
    "rude , he ... Good facility but very rude Guide My wife , three kids ( 12,15,1\n",
    " available for the ... Employees are rude and uninformed . My 18-year old son "
   ]
  },
  {
   "cell_type": "markdown",
   "metadata": {},
   "source": [
    "PAYMENT:\n",
    "(Bad : Good   =     37.8 : 1.0)\n",
    "\n",
    " cancellation policy as it requires payment well in advance and is not very for\n",
    "e ( they also offer cabins ) . Full payment in advance was required . After che\n",
    "d was told that they would hold the payment on my card and then we could all pa"
   ]
  },
  {
   "cell_type": "markdown",
   "metadata": {},
   "source": [
    "RESPONSE:\n",
    "(Bad : Good   =     37.8 : 1.0)\n",
    "\n",
    "te . I received a helpful , upbeat response in less than 24 hours from Arik Wa\n",
    "time got a prompt and professional response from Catherine . We had explained \n",
    "I was planning for . Emails of her response were vague and delayed , however i\n",
    "se one-off but the lack of a response says otherwise . As a local with f"
   ]
  },
  {
   "cell_type": "markdown",
   "metadata": {},
   "source": [
    "CLEANING:\n",
    "(Bad : Good   =     37.8 : 1.0)\n",
    "\n",
    "o cabin and they were still inside cleaning . There was mold in downstairs bat\n",
    "own and the venue could use a good cleaning . Lots of fun . Sketchy part of to\n",
    "the park . The maintenance and the cleaning of the cabins could be improved . "
   ]
  },
  {
   "cell_type": "markdown",
   "metadata": {},
   "source": [
    "DIRTY:\n",
    "(Bad : Good   =     31.8 : 1.0)\n",
    "\n",
    "n . Instead of giving us a quick and dirty version and moving on with his day ,\n",
    "ite city ! You helped reveal all the dirty fun little secrets . We had a blast \n",
    "rvice was sloppy . Wine glasses were dirty and when I pointed it out to the bar\n",
    "laces have wet suits that smell like dirty feet ) . Jake is an excellent guide \n",
    "ere was nothing related to zombies . Dirty and quickly became boring Name of ac\n",
    "is excursion . The Boat is a rusty , dirty , Spider infested Tub . You go down"
   ]
  },
  {
   "cell_type": "markdown",
   "metadata": {},
   "source": [
    "CHEAP:\n",
    "(Bad : Good   =     31.8 : 1.0)\n",
    "\n",
    "is place kinda sucked . It was super cheap and cheesy . I felt like I wasted my\n",
    "ere very disappointed and it was n't cheap Was disappointed in this attraction \n",
    " , no better than one could get at a cheap buffet . If you like country music a\n",
    "I actually enjoy to paddle , not the cheap ones other companies use . The sched\n",
    " . They also only serve one brand of cheap wine . But the show and night time v"
   ]
  }
 ],
 "metadata": {
  "kernelspec": {
   "display_name": "Python 3",
   "language": "python",
   "name": "python3"
  },
  "language_info": {
   "codemirror_mode": {
    "name": "ipython",
    "version": 3
   },
   "file_extension": ".py",
   "mimetype": "text/x-python",
   "name": "python",
   "nbconvert_exporter": "python",
   "pygments_lexer": "ipython3",
   "version": "3.6.1"
  }
 },
 "nbformat": 4,
 "nbformat_minor": 2
}
