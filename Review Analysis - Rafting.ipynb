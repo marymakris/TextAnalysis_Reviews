{
 "cells": [
  {
   "cell_type": "markdown",
   "metadata": {},
   "source": [
    "### Rafting/Outdoor Adventure Companies\n",
    "\n",
    "There were 14 companies in the rafting group and about 3,130 reviews. "
   ]
  },
  {
   "cell_type": "code",
   "execution_count": null,
   "metadata": {
    "collapsed": true
   },
   "outputs": [],
   "source": [
    "import nltk\n",
    "import random\n",
    "import csv\n",
    "import re\n",
    "\n",
    "working_dir = \"C:\\\\Users\\\\Mary Makris\\\\Documents\\\\Applied Data Analytics\\\\Projects\\\\TOMIS\\\\\""
   ]
  },
  {
   "cell_type": "code",
   "execution_count": null,
   "metadata": {
    "collapsed": true
   },
   "outputs": [],
   "source": [
    "#initialize list to store labeled reviews in\n",
    "labeled_reviews = list()\n",
    "\n",
    "#open file of all the reviews, split it on a comma\n",
    "with open (working_dir + 'rafting_outdooradven.txt', 'r', encoding=\"UTF-8\") as xfile:                                        \n",
    "#    next(xfile)\n",
    "    splitline = csv.reader(xfile, delimiter = \"\\t\")\n",
    "    next(splitline)\n",
    "    for line in splitline:\n",
    "        ##join the title of the review with the content of the review so all the text can be analyzed as one\n",
    "        joinline = line[0] + \" \" + line[3]\n",
    "        #label reviews rating with a 40 or 50 as good and those with a 10, 20, 0r 30 as bad\n",
    "        if line[2] == \"50\" or line[2] == \"40\":\n",
    "            labeled_reviews.append((joinline, 'Good'))\n",
    "        else:\n",
    "            labeled_reviews.append((joinline, 'Bad'))"
   ]
  },
  {
   "cell_type": "code",
   "execution_count": null,
   "metadata": {
    "collapsed": true
   },
   "outputs": [],
   "source": [
    "labeled_reviews[:5]"
   ]
  },
  {
   "cell_type": "code",
   "execution_count": null,
   "metadata": {
    "collapsed": true
   },
   "outputs": [],
   "source": [
    "#shuffle all the reviews up in case they are in some type of order\n",
    "random.shuffle(labeled_reviews)"
   ]
  },
  {
   "cell_type": "code",
   "execution_count": null,
   "metadata": {
    "collapsed": true
   },
   "outputs": [],
   "source": [
    "def review_features(review):\n",
    "    '''This function should take in a review and return \n",
    "    a dictionary value with the name of the feature as the key and \n",
    "    the value as the feature value'''\n",
    "     \n",
    "    split_review = review.split(\" \")                            ### split the list of words\n",
    "    lowcase_review = [thing.lower() for thing in split_review]     ### make all the descriptions lowercase\n",
    "    clean_review = [re.sub(r'[^\\w\\s]','',word) for word in lowcase_review]  ## fix punctuation\n",
    "    print(clean_review)                                                                   \n",
    "    ret_val = {}                                                ###store words in a dictionary\n",
    "    for word in clean_review: \n",
    "        ret_val[word] = True\n",
    "    return(ret_val)\n",
    "\n",
    "#Test the function\n",
    "review_features(\"Is this working correctly\")"
   ]
  },
  {
   "cell_type": "code",
   "execution_count": null,
   "metadata": {
    "collapsed": true
   },
   "outputs": [],
   "source": [
    "##run each review through function and store the results in a variable called feature sets\n",
    "featuresets = [(review_features(review), rating) for (review, rating) in labeled_reviews]   \n",
    "#Split the reviews into a training set and a test set\n",
    "train_set, test_set = featuresets[500:], featuresets[:500]   \n",
    "#run the training set through the Naive Bayes classifier to train it\n",
    "classifier = nltk.NaiveBayesClassifier.train(train_set)   "
   ]
  },
  {
   "cell_type": "code",
   "execution_count": null,
   "metadata": {
    "collapsed": true
   },
   "outputs": [],
   "source": [
    "#look at how accurate the classifier was when analyzing the test set of reviews that were left out\n",
    "print(nltk.classify.accuracy(classifier, test_set))"
   ]
  },
  {
   "cell_type": "code",
   "execution_count": null,
   "metadata": {
    "collapsed": true
   },
   "outputs": [],
   "source": [
    "#look at the most informative features determined by the classifer\n",
    "classifier.show_most_informative_features(50)"
   ]
  },
  {
   "cell_type": "code",
   "execution_count": null,
   "metadata": {
    "collapsed": true
   },
   "outputs": [],
   "source": [
    "#initialize a list to store all the reviews\n",
    "all_reviews = []\n",
    "\n",
    "#split each review into individual words, and store the words in the all_reviews list\n",
    "for review, label in labeled_reviews :\n",
    "    words = review.split() \n",
    "    for word in words :\n",
    "        all_reviews.append(word)"
   ]
  },
  {
   "cell_type": "code",
   "execution_count": null,
   "metadata": {
    "collapsed": true
   },
   "outputs": [],
   "source": [
    "##tokenize each word in the list of reviews\n",
    "all_reviews = nltk.word_tokenize(\" \".join(all_reviews))"
   ]
  },
  {
   "cell_type": "code",
   "execution_count": null,
   "metadata": {
    "collapsed": true
   },
   "outputs": [],
   "source": [
    "##According to the NLTK documentation nltk.text is wrapper around the tokens that allows you to then run functions like \n",
    "##concordance. So I run it on the now tokenized words in all the reviews and store with the same name as before\n",
    "all_reviews = nltk.Text(all_reviews)"
   ]
  },
  {
   "cell_type": "code",
   "execution_count": null,
   "metadata": {
    "collapsed": true
   },
   "outputs": [],
   "source": [
    "#look at the context surrounding each word to get more information about what the review entailed\n",
    "all_reviews.concordance(\"informativefeatureword\")"
   ]
  },
  {
   "cell_type": "markdown",
   "metadata": {},
   "source": [
    "After looking at the top 50 features and the context surrounding them, I pulled the 5 to 10 that I felt would\n",
    "be most useful and informative from a business perspective that TOMIS could use in their work with clients. \n",
    "Likely because of the low number of negative reviews, the classifier had low accuracy rates and the context \n",
    "shows words in reviews that are positive. \n",
    "\n",
    "### Top Informative Features & Probabilites"
   ]
  },
  {
   "cell_type": "markdown",
   "metadata": {},
   "source": [
    "RESCHEDULE:\n",
    "(Bad : Good   =     52.7 : 1.0)\n",
    "\n",
    "his money and they would n't even reschedule ... Terrible service would n't us\n",
    "e got better . They allowed us to reschedule several times at no ... Total Bla"
   ]
  },
  {
   "cell_type": "markdown",
   "metadata": {},
   "source": [
    "PAYMENT: \n",
    "Bad : Good   =     52.7 : 1.0\n",
    "\n",
    "e ( they also offer cabins ) . Full payment in advance was required . After che\n",
    "d was told that they would hold the payment on my card and then we could all pa\n",
    " cancellation policy as it requires payment well in advance and is not very for"
   ]
  },
  {
   "cell_type": "markdown",
   "metadata": {},
   "source": [
    "BOOKINGS:\n",
    "(Bad : Good   =     52.7 : 1.0)\n",
    "\n",
    "lace the two with some last minute bookings . I was informed ... Awesome rafti\n",
    "any questions I have had regarding bookings , cancellations and of course , wh"
   ]
  },
  {
   "cell_type": "markdown",
   "metadata": {},
   "source": [
    "ADVERTISED:\n",
    "Bad : Good   =     99.3 : 1.0\n",
    "        \n",
    "on Wed with no one to greet us as advertised . So we had to search for someone\n",
    "d can only confirm that all is as advertised - slow and meallow start with ple\n",
    " more comfortable camping trip as advertised on their website ... Great raftin\n",
    "unt if you booked online and they advertised rafting a for a longer distance t"
   ]
  },
  {
   "cell_type": "markdown",
   "metadata": {},
   "source": [
    "PROMISE:\n",
    "(Bad : Good   =     87.8 : 1.0)\n",
    "\n",
    "this experience to fulfil a special promise I made to my son 15 hears ago.. Thi\n",
    " , i felt totally ripped off , they promise a level 4 rafting experience , whic\n",
    "on with family We were lured by the promise of a gentle ride down the river at "
   ]
  }
 ],
 "metadata": {
  "kernelspec": {
   "display_name": "Python 3",
   "language": "python",
   "name": "python3"
  },
  "language_info": {
   "codemirror_mode": {
    "name": "ipython",
    "version": 3
   },
   "file_extension": ".py",
   "mimetype": "text/x-python",
   "name": "python",
   "nbconvert_exporter": "python",
   "pygments_lexer": "ipython3",
   "version": "3.6.1"
  }
 },
 "nbformat": 4,
 "nbformat_minor": 2
}
