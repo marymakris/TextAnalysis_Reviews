{
 "cells": [
  {
   "cell_type": "markdown",
   "metadata": {},
   "source": [
    "### Charleston Tours \n",
    "\n",
    "The Charleston tour group was made up a 4 different tours in Charleston and there were about 1,620 reviews. "
   ]
  },
  {
   "cell_type": "code",
   "execution_count": null,
   "metadata": {
    "collapsed": true
   },
   "outputs": [],
   "source": [
    "import nltk\n",
    "import random\n",
    "import csv\n",
    "import re\n",
    "\n",
    "working_dir = \"C:\\\\Users\\\\Mary Makris\\\\Documents\\\\Applied Data Analytics\\\\Projects\\\\TOMIS\\\\\""
   ]
  },
  {
   "cell_type": "code",
   "execution_count": null,
   "metadata": {},
   "outputs": [],
   "source": [
    "#initialize list to store labeled reviews in\n",
    "labeled_reviews = list()\n",
    "\n",
    "#open file of all the reviews, split it on a comma\n",
    "with open (working_dir + 'charleston_tours.csv', 'r', encoding=\"UTF-8\") as xfile:                                        \n",
    "    splitline = csv.reader(xfile, delimiter = \",\")\n",
    "    next(splitline)\n",
    "    ##join the title of the review with the content of the review so all the text can be analyzed as one\n",
    "    for line in splitline:\n",
    "        joinline = line[0] + \" \" + line[3]\n",
    "        #label reviews rating with a 40 or 50 as good and those with a 10, 20, 0r 30 as bad\n",
    "        if line[2] == \"50\" or line[2] == \"40\":\n",
    "            labeled_reviews.append((joinline, 'Good'))\n",
    "        else:\n",
    "            labeled_reviews.append((joinline, 'Bad'))"
   ]
  },
  {
   "cell_type": "code",
   "execution_count": null,
   "metadata": {
    "collapsed": true
   },
   "outputs": [],
   "source": [
    "#shuffle all the reviews up in case they are in some type of order\n",
    "random.shuffle(labeled_reviews)"
   ]
  },
  {
   "cell_type": "code",
   "execution_count": null,
   "metadata": {},
   "outputs": [],
   "source": [
    "def review_features(review):\n",
    "    '''This function should take in a review and return \n",
    "    a dictionary value with the name of the feature as the key and \n",
    "    the value as the feature value'''\n",
    "     \n",
    "    split_review = review.split(\" \")                            ### split the list of words\n",
    "    lowcase_review = [thing.lower() for thing in split_review]     ### make all the descriptions lowercase\n",
    "    clean_review = [re.sub(r'[^\\w\\s]','',word) for word in lowcase_review]  ## fix punctuation\n",
    "    print(clean_review)                                                                   \n",
    "    ret_val = {}                                                 ##store clean reviews in a dictionary\n",
    "    for word in clean_review:\n",
    "        ret_val[word] = True\n",
    "    return(ret_val)\n",
    "\n",
    "#Test the function\n",
    "review_features(\"Is this working correctly\")"
   ]
  },
  {
   "cell_type": "code",
   "execution_count": null,
   "metadata": {},
   "outputs": [],
   "source": [
    "##run each review through the function and store the results in a variable called feature sets\n",
    "featuresets = [(review_features(review), rating) for (review, rating) in labeled_reviews]  \n",
    "#Split the reviews into a training set and a test set\n",
    "train_set, test_set = featuresets[500:], featuresets[:500] \n",
    "#run the training set through the Naive Bayes classifier to train it\n",
    "classifier = nltk.NaiveBayesClassifier.train(train_set)   "
   ]
  },
  {
   "cell_type": "code",
   "execution_count": null,
   "metadata": {},
   "outputs": [],
   "source": [
    "#look at how accurate the classifier was when analyzing the test set of reviews that were left out\n",
    "print(nltk.classify.accuracy(classifier, test_set))"
   ]
  },
  {
   "cell_type": "code",
   "execution_count": null,
   "metadata": {},
   "outputs": [],
   "source": [
    "#look at the most informative features determined by the classifer\n",
    "classifier.show_most_informative_features(50)"
   ]
  },
  {
   "cell_type": "code",
   "execution_count": null,
   "metadata": {
    "collapsed": true
   },
   "outputs": [],
   "source": [
    "#initialize a list to store all the reviews\n",
    "all_reviews = []\n",
    "\n",
    "#split each review into individual words, and store the words in the all_reviews list\n",
    "for review, label in labeled_reviews :\n",
    "    words = review.split() \n",
    "    for word in words :\n",
    "        all_reviews.append(word)"
   ]
  },
  {
   "cell_type": "code",
   "execution_count": null,
   "metadata": {
    "collapsed": true
   },
   "outputs": [],
   "source": [
    "##tokenize each word in the list of reviews\n",
    "all_reviews = nltk.word_tokenize(\" \".join(all_reviews))"
   ]
  },
  {
   "cell_type": "code",
   "execution_count": null,
   "metadata": {
    "collapsed": true
   },
   "outputs": [],
   "source": [
    "##According to the NLTK documentation nltk.text is wrapper around the tokens that allows you to then run functions like \n",
    "##concordance. So I run it on the now tokenized words in all the reviews and store with the same name as before\n",
    "all_reviews = nltk.Text(all_reviews)"
   ]
  },
  {
   "cell_type": "code",
   "execution_count": null,
   "metadata": {},
   "outputs": [],
   "source": [
    "#look at the context surrounding each word to get more information about what the review entailed\n",
    "all_reviews.concordance(\"informativefeatureword\")"
   ]
  },
  {
   "cell_type": "markdown",
   "metadata": {},
   "source": [
    "After looking at the top 50 features and the context surrounding them, I pulled the 5 to 10 that I felt would\n",
    "be most useful and informative from a business perspective that TOMIS could use in their work with clients. \n",
    "Likely because of the low number of negative reviews, the classifier had low accuracy rates and the context \n",
    "shows words in reviews that are positive. \n",
    "\n",
    "### Top Informative Features & Probabilites"
   ]
  },
  {
   "cell_type": "markdown",
   "metadata": {
    "collapsed": true
   },
   "source": [
    "WEBSITE:\n",
    "(Bad : Good   =     17.7 : 1.0)\n",
    "\n",
    "had done some research online . The website pretty clearly states that either M\n",
    "Brown came highly acclaimed and the website clearly stated that he personally i\n",
    " tours . Upon on our ... Misleading Website The ghost tour , given by Mike Brow\n",
    "e sure to purchase tickets on their website to receive $ 3 off . Very highly re\n",
    "ity for the tour via the company 's website . Per the Groupon instructions , I "
   ]
  },
  {
   "cell_type": "markdown",
   "metadata": {},
   "source": [
    "STANDING:\n",
    "Bad : Good   =     17.7 : 1.0\n",
    "        \n",
    "places in Charleston ( you will be standing most of the tour , ... Ghost tour \n",
    "de . We spent the first 15 minutes standing across the street from where 2 cri\n",
    " to fully appreciate where we were standing . Meeting the chefs and tasting a \n",
    "or structures . It was kinda weird standing in parking lots or behind building"
   ]
  },
  {
   "cell_type": "markdown",
   "metadata": {},
   "source": [
    "HISTORICALLY:\n",
    "( Bad : Good   =     10.6 : 1.0)\n",
    "\n",
    "y tour ( which is completely and historically accurate- Dennis has done GREAT \n",
    "was not a creepy experience more historically tragic stories . Would definitel\n",
    "ens . I thought it would be more historically based ... meaning encompassing m"
   ]
  },
  {
   "cell_type": "markdown",
   "metadata": {},
   "source": [
    "DISAPPOINTED:\n",
    "(Bad : Good   =     10.6 : 1.0)\n",
    "\n",
    "Brown on Oct. 30th and were very disappointed . If you want exciting , this is\n",
    "ever saw except in photos on ... Disappointed We had the 7:30PM tour with Mike\n",
    "half and 3 bars we were a little disappointed . Our young tour guide was medio\n",
    "n ghost tales , and was slightly disappointed . It was entertaining , but abou\n",
    "chose a walking tour and was not disappointed . In just over 2 hours our tour \n",
    " and informative . You wo n't be disappointed in this tour ! Book it ! The tou\n",
    "an tell you that you will not be disappointed with Dennis and his Civil Way & \n",
    "ews and were most definitely not disappointed . The tour guide was very knowle\n",
    "he guide arrived he informed ... Disappointed This was such a great time ! Mik\n",
    ".. Guide was good , but a little disappointed with the stories and the tour Gr\n",
    "came to an end . You will not be disappointed if you do ... Excellent tour ! I\n",
    "n on ghost tours before and been disappointed . This tour was excellent . Our \n",
    ", and can honestly say have been disappointed and delighted around the globe .\n",
    " awhile . I thought that was ... Disappointed Amazing tours ! They not only te\n"
   ]
  }
 ],
 "metadata": {
  "kernelspec": {
   "display_name": "Python 3",
   "language": "python",
   "name": "python3"
  },
  "language_info": {
   "codemirror_mode": {
    "name": "ipython",
    "version": 3
   },
   "file_extension": ".py",
   "mimetype": "text/x-python",
   "name": "python",
   "nbconvert_exporter": "python",
   "pygments_lexer": "ipython3",
   "version": "3.6.1"
  }
 },
 "nbformat": 4,
 "nbformat_minor": 2
}
