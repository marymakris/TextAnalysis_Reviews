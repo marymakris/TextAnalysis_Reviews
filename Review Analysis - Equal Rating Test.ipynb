{
 "cells": [
  {
   "cell_type": "markdown",
   "metadata": {},
   "source": [
    "### Testing datasets with an equal number of positive and negative reviews\n",
    "\n",
    "Since all of the other analyses had so many fewer negative reviews than positive reviews, I am testing results when I include and equal number of positive and negative reviews in the analysis. I used 4 different files that each included all 473 negative reviews and a random sample of 500 positive reviews. "
   ]
  },
  {
   "cell_type": "code",
   "execution_count": null,
   "metadata": {
    "collapsed": true
   },
   "outputs": [],
   "source": [
    "import nltk\n",
    "import random\n",
    "import csv\n",
    "import re\n",
    "\n",
    "working_dir = \"C:\\\\Users\\\\Mary Makris\\\\Documents\\\\Applied Data Analytics\\\\Projects\\\\TOMIS\\\\\""
   ]
  },
  {
   "cell_type": "markdown",
   "metadata": {},
   "source": [
    "The first step is to label each review. "
   ]
  },
  {
   "cell_type": "code",
   "execution_count": null,
   "metadata": {
    "collapsed": true
   },
   "outputs": [],
   "source": [
    "#initialize list to store labeled reviews in\n",
    "labeled_reviews = list()\n",
    "\n",
    "#open file of all the reviews, split it on a comma (swapped out each of the equal_rating csv's to test different groups)\n",
    "with open (working_dir + 'equal_ratings1.csv', 'r', encoding=\"latin-1\") as xfile:                                        \n",
    "    splitline = csv.reader(xfile, delimiter = \",\")\n",
    "    next(splitline)\n",
    "    for line in splitline:\n",
    "        ##join the title of the review with the content of the review so all the text can be analyzed as one\n",
    "        joinline = line[0] + \" \" + line[3]\n",
    "        #label reviews rating with a 40 or 50 as good and those with a 10, 20, 0r 30 as bad\n",
    "        if line[2] == \"50\" or line[2] == \"40\":\n",
    "            labeled_reviews.append((joinline, 'Good'))\n",
    "        else:\n",
    "            labeled_reviews.append((joinline, 'Bad'))"
   ]
  },
  {
   "cell_type": "markdown",
   "metadata": {},
   "source": [
    "Once labeled, I shuffled the reviews to ensure they are in a random order. "
   ]
  },
  {
   "cell_type": "code",
   "execution_count": null,
   "metadata": {
    "collapsed": true
   },
   "outputs": [],
   "source": [
    "random.shuffle(labeled_reviews)"
   ]
  },
  {
   "cell_type": "code",
   "execution_count": null,
   "metadata": {},
   "outputs": [],
   "source": [
    "def review_features(review):\n",
    "    '''This function should take in a review and return \n",
    "    a dictionary value with the name of the feature as the key and \n",
    "    the value as the feature value'''\n",
    "     \n",
    "    split_review = review.split(\" \")                            ### split the list of words\n",
    "    lowcase_review = [thing.lower() for thing in split_review]     ### make all the descriptions lowercase\n",
    "    clean_review = [re.sub(r'[^\\w\\s]','',word) for word in lowcase_review]  ## fix punctuation\n",
    "    print(clean_review)                                                                   \n",
    "    ret_val = {}\n",
    "    for word in clean_review:\n",
    "        ret_val[word] = True\n",
    "    return(ret_val)\n",
    "\n",
    "#Test the function\n",
    "review_features(\"Is this working correctly\")"
   ]
  },
  {
   "cell_type": "code",
   "execution_count": null,
   "metadata": {},
   "outputs": [],
   "source": [
    "##run each review through function and store the results in a variable called feature sets\n",
    "featuresets = [(review_features(review), rating) for (review, rating) in labeled_reviews]   \n",
    "#Split the reviews into a training set and a test set\n",
    "train_set, test_set = featuresets[250:], featuresets[:250]\n",
    "#run the training set through the Naive Bayes classifier to train it\n",
    "classifier = nltk.NaiveBayesClassifier.train(train_set)   "
   ]
  },
  {
   "cell_type": "code",
   "execution_count": null,
   "metadata": {},
   "outputs": [],
   "source": [
    "#look at how accurate the classifier was when analyzing the test set of reviews that were left out\n",
    "print(nltk.classify.accuracy(classifier, test_set))"
   ]
  },
  {
   "cell_type": "code",
   "execution_count": null,
   "metadata": {
    "scrolled": true
   },
   "outputs": [],
   "source": [
    "#look at the most informative features determined by the classifer\n",
    "classifier.show_most_informative_features(50)"
   ]
  },
  {
   "cell_type": "code",
   "execution_count": null,
   "metadata": {
    "collapsed": true
   },
   "outputs": [],
   "source": [
    "#initialize a list to store all the reviews\n",
    "all_reviews = []\n",
    "\n",
    "#split each review into individual words, and store the words in the all_reviews list\n",
    "for review, label in labeled_reviews :\n",
    "    words = review.split() \n",
    "    for word in words :\n",
    "        all_reviews.append(word)"
   ]
  },
  {
   "cell_type": "code",
   "execution_count": null,
   "metadata": {
    "collapsed": true
   },
   "outputs": [],
   "source": [
    "##tokenize each word in the list of reviews\n",
    "all_reviews = nltk.word_tokenize(\" \".join(all_reviews))"
   ]
  },
  {
   "cell_type": "code",
   "execution_count": null,
   "metadata": {
    "collapsed": true
   },
   "outputs": [],
   "source": [
    "##According to the NLTK documentation nltk.text is wrapper around the tokens that allows you to then run functions like \n",
    "##concordance. So I run it on the now tokenized words in all the reviews and store with the same name as before\n",
    "all_reviews = nltk.Text(all_reviews)"
   ]
  },
  {
   "cell_type": "code",
   "execution_count": null,
   "metadata": {},
   "outputs": [],
   "source": [
    "#look at the context surrounding each word to get more information about what the review entailed\n",
    "all_reviews.concordance(\"disappointed\")"
   ]
  },
  {
   "cell_type": "code",
   "execution_count": null,
   "metadata": {},
   "outputs": [],
   "source": [
    "from collections import Counter\n",
    "\n",
    "couter = Counter(word_list)"
   ]
  },
  {
   "cell_type": "code",
   "execution_count": null,
   "metadata": {},
   "outputs": [],
   "source": [
    "print(couter)"
   ]
  },
  {
   "cell_type": "markdown",
   "metadata": {},
   "source": [
    "After looking at the top 50 features and the context surrounding them, I pulled the 5 to 10 that I felt would be most useful and informative from a business perspective that TOMIS could use in their work with clients. \n",
    "\n",
    "### Informative Features with their context:"
   ]
  },
  {
   "cell_type": "markdown",
   "metadata": {},
   "source": [
    "Highly\n",
    "(Good : Bad)\n",
    "\n",
    " . His storytelling was superb ! We highly recommend this tour for anyone who \n",
    "trip that we will never forget . We highly recommend Wilderness Aware ... Fami\n",
    "id not succeed . The whole hour was highly enjoyable , however , and we would \n",
    ", and we would gladly do it again . Highly recommended ! Friendly and fun We '\n",
    ". Great experience all around and I highly ... Great time ! ! ! First let me s\n",
    "tory from a different perspective . Highly Recommend Sean the Stud was an awes\n",
    "with some fancy moves on the raft . Highly recommend Fantastic guide on the ri\n",
    "am , your mum should be proud ! ! ! Highly recommend . Wet & wild Sam from Aus\n",
    "y ) was excellent . Very fun time ! Highly recommended . Our first time on the\n",
    "e rafting , and they made it easy . Highly recommend checking out Alpine ... G\n",
    "her rafters and enjoyed the river . Highly recommend . Good times ! Our tour g\n",
    "l taught me what I needed to know . Highly Recommend ! 12 friends , sunny Satu\n",
    "so when we saw a Groupon for such a highly ranked place , we had to check it o\n",
    "e primarily because Mike Brown came highly acclaimed and the website clearly s\n",
    "k you for a great day . YExplore is highly recommended ! YExplore Yosemite hik\n",
    "t ! We would n't change a thing and highly recommend these guys . Great Whitew\n",
    "hat a great time was had by all . I highly recommend Mission Escape . Good tim\n",
    "getarian ( but not both ) options . Highly recommended ! Great trip ! My husba"
   ]
  },
  {
   "cell_type": "markdown",
   "metadata": {},
   "source": [
    "Every: \n",
    "(Good : Bad)\n",
    "\n",
    "fe . To boot , he knew the answer to every question we threw at him about the .\n",
    "care of . They seemed ... Well worth every penny The lunch provided was delicio\n",
    "eat scenery and fun rapids : ) worth every penny ! Sam was the best ! They had \n",
    "n This tour went above and beyond in every way from the amount of information a\n",
    "eam on an outing here and absolutely EVERY member enjoyed this activity . It wa\n",
    "dle Board Fitness Class Excellent in every way - Brandon was our guide as neiht\n",
    "throughout all of their locations in every city and that it was the first room \n",
    " ! Ages ranged from 9-57 ... fun for every age ! ! ! ! Fun in the study We were\n",
    "co , Napa Valley and then Yosemite . Every single one of the group said Yosemit\n",
    "and ... Amazing time - totally worth every penny ! In theory the carriage tour \n",
    "d family . We do escape games almost every weekend , so when we saw a Groupon f\n",
    "g thought it was expensive but worth every penny ! ! My youngest does ... First\n",
    " escape game I have ever done , with every little detail being an important par\n",
    "imes and have had a great experience every time . Great Family Fun We were real\n",
    "s extremely fun and completely worth every penny ! Best part of our vacation Th\n",
    "ith us and was full ... Excellent in every way ! It 's expensive for what you g\n",
    "t also knew the river and just about every house on the river and ... June Lowe\n",
    "ins . I 've been going to Charleston every summer for as long as I can remember\n",
    " grow This is a top notch company in every way . This was the highlight of our \n",
    "eral Jackson is mine ! It ticks most every box you would want from a Nashville"
   ]
  },
  {
   "cell_type": "markdown",
   "metadata": {},
   "source": [
    "Fantastic:\n",
    "(Good : Bad)\n",
    "\n",
    "ch fun to try and solve all of ... Fantastic Puzzle Adventure ! ! Booked a rive\n",
    "g rafting trip . Our guide Tom was fantastic . We had a few first time rafters \n",
    "p Our instructor , Liz , is always fantastic . This was my seventh time doing S\n",
    "h high energy and super talent and fantastic costuming ! ... Nice but expensive\n",
    "rs old ) . Our guide , Chase , was fantastic . Very informative and entertainin\n",
    "ves on the raft . Highly recommend Fantastic guide on the river ! ! ! And just \n",
    "ne . I would definitely go again . Fantastic Time This was a short-fused decisi\n",
    "e both wonderful . They prepared a fantastic meal for us for after our tour . O\n",
    "fect afternoon with good friends . Fantastic trip down the river with Forrest !\n",
    "gh expectations The boat itself is fantastic . Crew very nice . Up top had a ba\n",
    "sor . Our rooms and the staff were fantastic . We arranged for a scenic raft tr\n",
    "rience ! Staff and characters were fantastic ! Next time we 'll go for the Hote\n",
    " tour in 2014 Our group of 9 had a fantastic time with Dave visiting Yosemite .\n",
    "s up exactly at 9 ... Group of 9 - Fantastic Time We celebrated my father 's bi\n",
    "'s ... If you like ... .. It was a fantastic experience , we had so much fun . \n",
    "h ones were better . Charlie was a fantastic guide and she did an awesome job l\n",
    "w was very good . The singers were fantastic ! It was nice just being able to w\n",
    "oup of us tried the study . It was fantastic ! I fully recommend it . It was ch\n",
    "he staff is very helpful as well . Fantastic Game Justin our trip guide was awe\n",
    "afting experience today and it was fantastic ! These guys are great and Henry ,\n",
    "ll have a great trip . We were ... Fantastic ! The experience was great . The r\n",
    "water rafting with Alpine . It was fantastic and wet ! ! ! Our guide , Drew , w\n",
    " MUST do ! Our guide , Lydia , was fantastic in showing us a good time while be\n",
    "ory teller who fully draws you ... Fantastic ! ! ! I went white water rafting f\n",
    " more trips to come . Carson was a fantastic group leader and we were fortunate"
   ]
  },
  {
   "cell_type": "markdown",
   "metadata": {},
   "source": [
    "Blast\n",
    "(Good : Bad)\n",
    "\n",
    "'t succeed in getting out , we had a blast ! We did the Study ... We did n't ge\n",
    "esk was very helpful as well . Total Blast I only went because my grandson want\n",
    "hite water rafting trip . Kids had a blast ( 8 and 12 years old ) . Our guide ,\n",
    "eat experience . My group of 4 had a blast , and even though we were all at VAS\n",
    "m the Merced river trip and it was a blast , the highlight of our trip to Yosem\n",
    "d and I and our 6-year-old son had a blast . Judith handled the reservations an\n",
    "ous stories while rafting . It was a blast ! I was really excited about this to\n",
    "ng with Wilderness Aware , and had a blast ! Our guide Ethan was absolutely awe\n",
    " was great and the tour itself was a blast and ... Amazing time - totally worth\n",
    "ion : Escape Atlanta was an absolute blast ! I did Alcatraz one day and the Kin\n",
    "omfortable , but it ended up being a blast . The scenery while rafting was also\n",
    " Food Choices The whole family had a blast tackling the white rapids of the Ark\n",
    "lower brown canyon and it was such a blast ! We have a number of young children\n",
    "ry well . The girlfriend and I had a blast going through some ... Great time in\n",
    "istine area . The lodge is ... Total blast from the past . I 've been rafting w\n",
    "e ( Alex ) went in a raft . It was a blast ! The beginning was pretty tame but \n",
    "ook the intro to SUP class and had a blast . Lake is calm . Instructors are gre\n",
    " Everything went smoothly . We had a blast ! ! ! Thank you Sunshine Rafting ! F\n",
    "rnoon cruise down the river We had a blast ! This was a great pre-dinner activi\n",
    "g . Our daughters 7 and 9 both had a blast . Totally ... Blown away ! Floated t\n",
    "ey ... Not to impressed ! ! We had a blast on our pedal tavern tour , however t\n",
    "addle boarding sessions and it was a blast ! We ca n't wait to go back . They a\n",
    ".. Upper King Street Tour This was a blast . 3 hr ride into Nashville dinner an\n",
    "g and not enough excitement We had a blast . Instructors were great . Got a ful\n",
    "r rafting companies/adventures Had a blast , the staff was very helpful and fri"
   ]
  },
  {
   "cell_type": "markdown",
   "metadata": {},
   "source": [
    "Awesome:\n",
    "(Good : Bad)\n",
    "\n",
    "rrows Express ! Our guide Lydia was awesome . My family of 6 had never been raf\n",
    "he info and the bear hug at the ... Awesome ! People had to use the restroom wh\n",
    "ieve how much it changed but it was awesome . The food ... My first time on the\n",
    " a minute and 15 seconds to spare ) Awesome , Just Awesome ! ! ! Great Staff . \n",
    "5 seconds to spare ) Awesome , Just Awesome ! ! ! Great Staff . Outstanding tri\n",
    "t incorporated into the stories was awesome . The reason I gave ... It was ok. \n",
    "close , seconds away . Jarod was so awesome ! Great way to spend an afternoon ,\n",
    "a welcomed challenge ! We had a ... Awesome ! We had a great time on the half d\n",
    "le we waited and the employees were awesome and really got into character ! Suc\n",
    "e amount of fun and laughter to the awesome amounts of beer ! I would have easi\n",
    "riends back bc it was that much ... Awesome Experience for Work Team & Beyond T\n",
    "ghly Recommend Sean the Stud was an awesome guide and we had a great time . ( t\n",
    "er rafts flipped over during ... An awesome rafting experience ! One of the loc\n",
    "ked it more after that . So you ... Awesome Trip Entertainment was top notch wi\n",
    "d it was really fun . Kelton was an awesome guide and positively added to the e\n",
    ". Our experienced guide , Jan , ... Awesome Whitewater Rafting Experience ! Tol\n",
    " ... Liars Hydra River Guides is an awesome group ! I was one of four leaders f\n",
    "trip , first time rafting , totally awesome ! We cruised this ship about twenty\n",
    "as a fantastic guide and she did an awesome job leading the tour and giving his\n",
    "e than 20 years ago and had such an awesome time that when we visited Nashville\n",
    " . It was ... Relaxing and Ordinary Awesome activity for a group to do ! Critic\n",
    ", mediocre execution The guides are awesome provided safety orientation a must \n",
    "alfway through the rafting tour was awesome . The beautiful crystal clear water\n",
    " Horse River was breathtaking . The awesome reasonable rates for family was the\n",
    "st ! Our guide Ethan was absolutely awesome ! Not only he made us feel safe , b"
   ]
  },
  {
   "cell_type": "markdown",
   "metadata": {},
   "source": [
    "Challenging:\n",
    "(Good : Bad)\n",
    "\n",
    "r family . Loads of fun and very challenging ( but we did escape with a minute\n",
    "ram . We had alot of fun - it was challenging but once we got the hang of it , \n",
    "ters , very fun , interactive and challenging puzzles . I ... The HOTEL ! Loved\n",
    "ver having done yoga but not very challenging for more experienced . Also we sp\n",
    " , made it to the hidden room ! ! Challenging Adventure Mission Escape was real\n",
    " much fun and definitely way more challenging than I expected ! Ca n't wait to \n",
    "lding experience , intellectually challenging , and so much fun . I will defini\n",
    "as so much fun . The puzzles were challenging yet definitely solvable . Our gro\n",
    "c ! I fully recommend it . It was challenging , but not too hard . We got down \n",
    " too difficult for 60 minutes But challenging so I would go back to try the oth\n",
    "these puzzles . The staff kept it challenging but fun . I want to come back whe\n",
    " us laughing the whole way it was challenging but not frustrating . We will be \n",
    "thentic and the puzzles were very challenging . You feel like you are acting ou\n",
    "re ! ; ) Just the right amount of challenging and fun . Great time ! ! We had g\n",
    "r better than the first . Great , challenging event . Much team building and my\n",
    " ... . Too many people & not very challenging We did the scenic float trip with\n",
    "such a great time . The Hotel was challenging but fun . 3 of us joined 6 strang\n",
    "re . We did The Study , which was challenging enough to make us think but not s\n",
    "nough to make us think but not so challenging that we were n't able to solve it\n",
    " our group of four . It was a bit challenging , but totally doable . We escaped\n",
    "eals to your competitive nature . Challenging Our GS Troop went on the 2 day So\n",
    " we had a blast ! The puzzles are challenging and getting out is rewarding ! It"
   ]
  },
  {
   "cell_type": "markdown",
   "metadata": {},
   "source": [
    "Money:\n",
    "(Bad : Good)\n",
    "\n",
    "urs during the ... Would I spend the money on this tour ? Not likely ! Our fami\n",
    "cary '' NOT SCARY AT ALL ! Save your money . My daughter and I went to a cemete\n",
    "ackpack and hiking Do n't waste your money or time . The food is a lousy buffet\n",
    " Xscape the room . Do not waste your money . Friendly , fun staff . The challen\n",
    "and cheesy . I felt like I wasted my money and they really got over . I 'll nev\n",
    "ay to spend an afternoon , worth the money . Recommend for families . Father 's\n",
    "fect Activity for a STAG ! Save your money . Do n't say I did n't warn you . It\n",
    "rth the trip or hassle Not worth the money . You would think that paying as muc\n",
    "ad that tour with Jan and it was the money absolutely worth it . Go for it you \n",
    "e . The comedic relief was worth the money . Whitewater rafting on Kicking Hors\n",
    "ever received it ... Liars.. All the money we paid to play I really do n't appr\n",
    " you want flexibility without losing money , ... Watch for cancellation charges\n",
    "akes about an hour or two . save you money and do the walking its eash and you \n",
    "the bar tender ... Do n't waste your money Nashville Paddle Company is an aweso\n",
    "t , the waiter was ... Not worth the money Family of 5 , 2 Adults and 3 Childre\n",
    "dule , the owner selfishly takes our money and does not notify us of the pletho\n",
    "me . I do n't think it was worth the money . not what I expected We had a great\n",
    " was terrible . If ... Not worth the money If you go for lunch , be sure to ask\n",
    "ulting in my autistic son losing his money and they would n't even reschedule .\n",
    "ip It 's certainly fun , but a total money racket . Not only do you have to bri\n",
    "od . For $ 40 a person , ... A total money racket I fell in love with SUP ! The\n",
    "mind , is this going to be worth the money ? ? Will we have fun even ... Not a \n",
    "style tables , the ... Not Worth the Money We rafted down the Kicking Horse Riv\n",
    "e . I get people ... Did n't get our money 's worth , but it seems most do My t\n",
    "groups in my room . It cost too much money to have to share your time with peop"
   ]
  },
  {
   "cell_type": "markdown",
   "metadata": {},
   "source": [
    "Groupon:\n",
    "(Bad : Good)\n",
    "\n",
    "t tour wherever we visit We found a Groupon for this 90 minute Ghost Tour Taken\n",
    "ke and surrounding areas . We did a Groupon for two couples and then purchased \n",
    "ur summer trip . We purchased it on groupon so it was half price.They took us a\n",
    "r a family , even though we paid on groupon . Civil War/Slavery-NOT FOR KIDS Gr\n",
    "st every weekend , so when we saw a Groupon for such a highly ranked place , we\n",
    "to enjoy experience . I purchased a Groupon to experience the Ghost Tour while \n",
    "on with my boyfriend . I bought the Groupon after verifying availability for th\n",
    "ia the company 's website . Per the Groupon instructions , I needed to call to \n",
    "ul . However , my wife & I bought a Groupon for this cruise & I 'm personally t\n",
    "od , but not great . We ... Get the Groupon It was way too many groups in my ro\n",
    "e After procuring a great deal from Groupon our six member family group ranging\n",
    "t in a Great Location We puchased a groupon for the civil war walking tour whic\n",
    ". The price was okay if you use the Groupon . Okay This is a very expensive att\n",
    "all ! We ( me and 3 friends ) saw a groupon for this attraction while we were i"
   ]
  },
  {
   "cell_type": "markdown",
   "metadata": {},
   "source": [
    "CHEAP:\n",
    "(Bad : Good)\n",
    "\n",
    "is place kinda sucked . It was super cheap and cheesy . I felt like I wasted my\n",
    "ere very disappointed and it was n't cheap Was disappointed in this attraction \n",
    " , no better than one could get at a cheap buffet . If you like country music a\n",
    "I actually enjoy to paddle , not the cheap ones other companies use . The sched\n",
    " . They also only serve one brand of cheap wine . But the show and night time v"
   ]
  },
  {
   "cell_type": "markdown",
   "metadata": {},
   "source": [
    "Bad\n",
    "(Bad : Good)\n",
    "\n",
    "e used the room behind us ! There was Bad birthday We were n't told when we pur\n",
    " Sorry for the drama ... Great bike , bad customer service Our sales team went \n",
    "ttedly , I was nervous . I 'm 57 w/ a bad back . WA and ... All Day , Brown 's \n",
    "kind of monotonous ... . It was n't a bad tour , just did n't keep my attention\n",
    " other reviews did n't want to risk a bad food experience ) . We hung out on th\n",
    "st 8CAD and worth about 3CAD . Left a bad taste in my mouth . Rest of the trip \n",
    "cruises are better but this one sucks bad ! ! ! Very disorganized and as over l\n",
    "d is very mediocre and the show is so bad that it is embarrassing ! Those poor \n",
    "staring at each other . It was really bad . I was on ... Disappointed I 've don\n",
    "ch to be desired . The raft leaked so bad we had to flip it twice & were consta\n",
    " we were back in ohio thanking us ... bad business Sunday afternoon brunch on t\n",
    "and this is the only time I 've had a bad experience . Any positives of this pl\n",
    " . The service was ... The good & the bad We had a fantastic afternoon doing th\n",
    "mentioned discount , the friendly ... Bad language from tour guide not apprecia"
   ]
  },
  {
   "cell_type": "markdown",
   "metadata": {},
   "source": [
    "Website\n",
    "(Bad : Good)\n",
    "\n",
    "Marginal entertainment , lousy food website said boat sailed at 7 and boarding \n",
    "had done some research online . The website pretty clearly states that either M\n",
    " before heading up to Montana . The website has great information for you to ch\n",
    "ted in the ... Description from the website - `` On this 3 hour walking tour yo\n",
    "ld call `` the fine print '' on the website and applies to all tour companies .\n",
    "Brown came highly acclaimed and the website clearly stated that he personally i\n",
    " tours . Upon on our ... Misleading Website The only reason I gave this 1 star \n",
    "ity for the tour via the company 's website . Per the Groupon instructions , I \n",
    "e company was very professional and website user friendly . The guide was fun ,\n",
    "camping trip as advertised on their website ... Great rafting experience , but \n",
    "rafting experience , but misleading website . Lower you 're expectations and it\n",
    " very rarely each ... Misleading on website but otherwise fun We did n't care f\n",
    "action to see the scenery as on the website . We did not choose the meal as we \n",
    " good fun I read reviews , read the website and called to verify the class of r\n",
    "r Adventure was chosen based on the website description of their half day wild \n",
    "t selected this company because the website did n't indicate they operated thei\n",
    " group of 12 and got no call back . Website said they do these `` one-off '' bu"
   ]
  },
  {
   "cell_type": "markdown",
   "metadata": {},
   "source": [
    "Boring\n",
    "(Bad : Good)\n",
    "\n",
    "nutritious meal . Entertainment was boring even to seniors around us . Seating\n",
    "g your own ... . Relaxing - Kind of boring We did 3 day trips with YFA . Excee\n",
    "iver . The trip was fun , but quite boring in some places because the water wa\n",
    "rst 1/2 hr or so ... it was kind of boring . Same kind of views of the homes ,\n",
    " make out the comments ... . Pretty boring If riding a riverboat from Opryland\n",
    ". Although it was really little bit boring in the middle , everything ... Calv\n",
    "acier Lodge . The 1st boat ride was boring and we could n't hear the guide . T\n",
    "h was most a level 3 . The tour was boring and very short , we Dont do the kic\n",
    " zombies . Dirty and quickly became boring Name of activity was misleading : `\n",
    " zombies . Dirty and quickly became boring This is my third time playing an es\n",
    " of the boat . Then , the script is boring and the young women who delivered .\n",
    "and his personal history . Not only boring but we were freezing standing out o\n",
    "d ... bland food , elevator music , boring overall It was my first ever experi"
   ]
  },
  {
   "cell_type": "markdown",
   "metadata": {},
   "source": [
    "Disappointed\n",
    "(Bad : Good)\n",
    "\n",
    "ook the lunch tour and were very disappointed . Very expensive for what we got\n",
    "to see the lakes . We were quite disappointed with the management of the boat \n",
    ".. Guide was good , but a little disappointed with the stories and the tour ve\n",
    "Great Guides , Great Fun We were disappointed with the area we toured . We did\n",
    "given , we enjoyed the large ... Disappointed Went on the `` Gospel '' brunch \n",
    "`` Gospel '' brunch cruise ... . Disappointed in the show and went out to watc\n",
    "able about the city , l was very disappointed we were not able to choose where\n",
    "ning up ... Great experience Was disappointed with the restaurants we were tak\n",
    "rall . However , we were kind of disappointed with the ... It Was OK Went to t\n",
    ", we wanted to go back . So very disappointed ... high ticket prices ( not wor\n",
    "t worth it ) , and the lunch ... Disappointed Took this on Mothers Day with my\n",
    "to appetizer at Indaco . We were disappointed in the ... Description from the \n",
    "ken dinner ) - go for it . I was disappointed at the overall experience but ot\n",
    "'ve ... Great Food Average Guide Disappointed . We made reservations months in\n",
    "ad but this will be our last ... Disappointed We did Mission : Escape during a\n",
    "re ready immediately . After ... Disappointed This is a nice gentle ride up ri\n",
    " of show ... .I had ... Somewhat Disappointed This was my 4th Browns Canyon tr\n",
    "iting this weekend and came away disappointed . First of all , you pay up fron\n",
    "than others . We spent ... Quite Disappointed i took 2 teens and they loved it\n",
    " ally ways and back streets ! `` Disappointed '' is a word we used . Lots of i\n",
    "hat my husband and I were highly disappointed by the excursion . First of all \n",
    "t , we bought our tickets at ... Disappointed ! ! You definitely do n't go for\n",
    "id knowledge on the city . I was disappointed with the food ... Nice tour , no\n",
    "n ! ! ! And very rude ! ! ! Very disappointed ! ! ! Booked a table to celebrat\n",
    "bout the area . So , yes , I was disappointed indeed . It was a wasteful hour."
   ]
  }
 ],
 "metadata": {
  "kernelspec": {
   "display_name": "Python 3",
   "language": "python",
   "name": "python3"
  },
  "language_info": {
   "codemirror_mode": {
    "name": "ipython",
    "version": 3
   },
   "file_extension": ".py",
   "mimetype": "text/x-python",
   "name": "python",
   "nbconvert_exporter": "python",
   "pygments_lexer": "ipython3",
   "version": "3.6.1"
  }
 },
 "nbformat": 4,
 "nbformat_minor": 2
}
