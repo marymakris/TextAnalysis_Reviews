{
 "cells": [
  {
   "cell_type": "markdown",
   "metadata": {},
   "source": [
    "### Boat/Park Tours\n",
    "\n",
    "There were 10 companies in the Boat and National Park Tour group, and about 1,700 reviews. "
   ]
  },
  {
   "cell_type": "code",
   "execution_count": null,
   "metadata": {
    "collapsed": true
   },
   "outputs": [],
   "source": [
    "import nltk\n",
    "import random\n",
    "import csv\n",
    "import re\n",
    "\n",
    "working_dir = \"C:\\\\Users\\\\Mary Makris\\\\Documents\\\\Applied Data Analytics\\\\Projects\\\\TOMIS\\\\\""
   ]
  },
  {
   "cell_type": "code",
   "execution_count": null,
   "metadata": {
    "collapsed": true
   },
   "outputs": [],
   "source": [
    "#initialize list to store labeled reviews in\n",
    "labeled_reviews = list()\n",
    "\n",
    "#open file of all the reviews, split it on a comma\n",
    "with open (working_dir + 'boat_parktours.csv', 'r', encoding=\"Latin-1\") as xfile:                                        \n",
    "    splitline = csv.reader(xfile, delimiter = \",\")\n",
    "    next(splitline)\n",
    "    for line in splitline:\n",
    "        ##join the title of the review with the content of the review so all the text can be analyzed as one\n",
    "        joinline = line[0] + \" \" + line[3]\n",
    "        #label reviews rating with a 40 or 50 as good and those with a 10, 20, 0r 30 as bad\n",
    "        if line[2] == \"50\" or line[2] == \"40\":\n",
    "            labeled_reviews.append((joinline, 'Good'))\n",
    "        else:\n",
    "            labeled_reviews.append((joinline, 'Bad'))"
   ]
  },
  {
   "cell_type": "code",
   "execution_count": null,
   "metadata": {
    "collapsed": true
   },
   "outputs": [],
   "source": [
    "#shuffle all the reviews up in case they are in some type of order\n",
    "random.shuffle(labeled_reviews)"
   ]
  },
  {
   "cell_type": "code",
   "execution_count": null,
   "metadata": {
    "collapsed": true
   },
   "outputs": [],
   "source": [
    "def review_features(review):\n",
    "    '''This function should take in a review and return \n",
    "    a dictionary value with the name of the feature as the key and \n",
    "    the value as the feature value'''\n",
    "     \n",
    "    split_review = review.split(\" \")                            ### split the list of words\n",
    "    lowcase_review = [thing.lower() for thing in split_review]     ### make all the descriptions lowercase\n",
    "    clean_review = [re.sub(r'[^\\w\\s]','',word) for word in lowcase_review]  ## fix punctuation\n",
    "    print(clean_review)                                                                   \n",
    "    ret_val = {}                                                  ###store words in a dictionary\n",
    "    for word in clean_review:\n",
    "        ret_val[word] = True\n",
    "    return(ret_val)\n",
    "\n",
    "#Test the function\n",
    "review_features(\"Is this working correctly\")"
   ]
  },
  {
   "cell_type": "code",
   "execution_count": null,
   "metadata": {
    "collapsed": true
   },
   "outputs": [],
   "source": [
    "##run each review through function and store the results in a variable called feature sets\n",
    "featuresets = [(review_features(review), rating) for (review, rating) in labeled_reviews]  \n",
    "#Split the reviews into a training set and a test set\n",
    "train_set, test_set = featuresets[500:], featuresets[:500] \n",
    "#run the training set through the Naive Bayes classifier to train it\n",
    "classifier = nltk.NaiveBayesClassifier.train(train_set)   "
   ]
  },
  {
   "cell_type": "code",
   "execution_count": null,
   "metadata": {
    "collapsed": true
   },
   "outputs": [],
   "source": [
    "#look at how accurate the classifier was when analyzing the test set of reviews that were left out\n",
    "print(nltk.classify.accuracy(classifier, test_set))"
   ]
  },
  {
   "cell_type": "code",
   "execution_count": null,
   "metadata": {
    "collapsed": true
   },
   "outputs": [],
   "source": [
    "#look at the most informative features determined by the classifer\n",
    "classifier.show_most_informative_features(50)"
   ]
  },
  {
   "cell_type": "code",
   "execution_count": null,
   "metadata": {
    "collapsed": true
   },
   "outputs": [],
   "source": [
    "#initialize a list to store all the reviews\n",
    "all_reviews = []\n",
    "\n",
    "#split each review into individual words, and store the words in the all_reviews list\n",
    "for review, label in labeled_reviews :\n",
    "    words = review.split() \n",
    "    for word in words :\n",
    "        all_reviews.append(word)"
   ]
  },
  {
   "cell_type": "code",
   "execution_count": null,
   "metadata": {
    "collapsed": true
   },
   "outputs": [],
   "source": [
    "##tokenize each word in the list of reviews\n",
    "all_reviews = nltk.word_tokenize(\" \".join(all_reviews))"
   ]
  },
  {
   "cell_type": "code",
   "execution_count": null,
   "metadata": {
    "collapsed": true
   },
   "outputs": [],
   "source": [
    "##According to the NLTK documentation nltk.text is wrapper around the tokens that allows you to then run functions like \n",
    "##concordance. So I run it on the now tokenized words in all the reviews and store with the same name as before\n",
    "all_reviews = nltk.Text(all_reviews)"
   ]
  },
  {
   "cell_type": "code",
   "execution_count": null,
   "metadata": {
    "collapsed": true
   },
   "outputs": [],
   "source": [
    "#look at the context surrounding each word to get more information about what the review entailed\n",
    "all_reviews.concordance(\"informativefeatureword\")"
   ]
  },
  {
   "cell_type": "markdown",
   "metadata": {},
   "source": [
    "After looking at the top 50 features and the context surrounding them, I pulled the 5 to 10 that I felt would\n",
    "be most useful and informative from a business perspective that TOMIS could use in their work with clients. \n",
    "Likely because of the low number of negative reviews, the classifier had low accuracy rates and the context \n",
    "shows words in reviews that are positive. \n",
    "\n",
    "### Top Informative Features & Probabilites"
   ]
  },
  {
   "cell_type": "markdown",
   "metadata": {},
   "source": [
    "PRICED:\n",
    "(Bad : Good   =     21.5 : 1.0)\n",
    "\n",
    "t was short boat ride that was over priced . My grandson wanted to ride it but\n",
    "nts . In fact , it was just an over priced boat.. No History - just a boat rid\n",
    "dly smiling crew , clean ship , and priced reasonably . Loved the waving lady \n",
    "ere well appreciated and reasonably priced . Was cold at times ... One of the \n",
    " we made invested in ... A Bit High Priced , But Worth The Memory We took the \n",
    "t tour was comfortable , reasonably priced , and informative . This is fun for\n",
    "ful . The cruise was 90 minutes and priced reasonably . great scenery on a bea\n",
    "eal this time , we felt it was over priced . We did the cruise and show . The \n",
    "enjoy it ! However , it is way over priced for adults . On top of that if you \n",
    "e Lodge ) ... and it was reasonably priced ( $ 16ish for adults , $ 8ish for k"
   ]
  },
  {
   "cell_type": "markdown",
   "metadata": {},
   "source": [
    "DRY:\n",
    "(Bad : Good   =     17.6 : 1.0)\n",
    "\n",
    " the food lacked luster . Chicken was dry and the short ribs were awful . I was\n",
    "inting . Pork chop was overcooked and dry ... . Great Entertainment We had a gr\n",
    "how after . The meal was terrible ... DRY , overcooked chicken ! Very pushy wai\n",
    "ind of fruit . Stove top dressing was dry and tasted like something from ... SO\n",
    "e food was not good . The chicken was dry and tasteless . The waiters was pushi\n",
    " the afternoon , we were successfully dry casting , roll casting , and catching\n",
    "ock until totally dark outside . Food dry , no better than one could get at a c\n",
    ".. Boxed mashed potatoes ... Roast so dry that all the gravy in the world could"
   ]
  },
  {
   "cell_type": "markdown",
   "metadata": {},
   "source": [
    "ENGINE:\n",
    "(Bad : Good   =     13.7 : 1.0)\n",
    "\n",
    " with us as I could n't restart the engine when he was teaching me what to do \n",
    " very hot , loud , exhaust smelling engine . No refund was given . Rudeness fr\n",
    "! 30 min into our 8hp boat ride the engine quit , then one of the oars split i\n",
    "e last night of our honeymoon . The engine on the boat broke so the ship cruis"
   ]
  },
  {
   "cell_type": "markdown",
   "metadata": {},
   "source": [
    "SERVER:\n",
    "(Bad : Good   =      9.8 : 1.0)\n",
    "    \n",
    "ally a better than I expected . Our server , Claude , was ... Sunday Brunch Cr\n",
    ", prime rib was the highlight . Our server was really good too . The ... What \n",
    "f difficulty communicating with our server ... Disappointed We booked a full d\n",
    "had to eat almost immediately . The server kept telling the people at our tabl\n",
    "estrooms where not very clean , the server we had English was not good and aft"
   ]
  },
  {
   "cell_type": "markdown",
   "metadata": {},
   "source": [
    "SOUND:\n",
    "(Bad : Good   =      9.8 : 1.0)\n",
    "\n",
    "my son was extremely scared from the sound on the boat and movement of the ... \n",
    "h to see along the shoreline and the sound system was poor so we could n't real\n",
    " cruise . As someone mentioned , the sound system sometimes made it hard to hea\n",
    "s some work , definitely needs a new sound man . it was overamplified for the ."
   ]
  },
  {
   "cell_type": "markdown",
   "metadata": {},
   "source": [
    "BORED:\n",
    "(Bad : Good   =      9.8 : 1.0)   \n",
    "\n",
    "year old with us , and she would get bored of some place ) . The only thing I d\n",
    " more interested and the kids seemed bored . There ... Relaxing and Informative\n",
    "d lunch . Had we known how tired and bored we would be at the end of 6 uneventf\n",
    " several times and I have never been bored . Pend Orielle is the largest lake i"
   ]
  },
  {
   "cell_type": "markdown",
   "metadata": {},
   "source": [
    "LOUD:\n",
    "(Bad : Good   =      9.8 : 1.0)\n",
    "\n",
    "ery Fun After 3 days of BBQ , beer & loud bars , this was a welcome change of \n",
    " d'Alene . My only complaint was the loud music . Why do people need music eve\n",
    "tting was right above the very hot , loud , exhaust smelling engine . No refun\n",
    "by mediocre band that played too too loud ! My interest was to get outside and\n",
    "e cruise and city sights . Music too loud This was the highlight of our Yosemi"
   ]
  }
 ],
 "metadata": {
  "kernelspec": {
   "display_name": "Python 3",
   "language": "python",
   "name": "python3"
  },
  "language_info": {
   "codemirror_mode": {
    "name": "ipython",
    "version": 3
   },
   "file_extension": ".py",
   "mimetype": "text/x-python",
   "name": "python",
   "nbconvert_exporter": "python",
   "pygments_lexer": "ipython3",
   "version": "3.6.1"
  }
 },
 "nbformat": 4,
 "nbformat_minor": 2
}
